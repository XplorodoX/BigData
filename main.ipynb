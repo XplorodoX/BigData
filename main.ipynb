{
 "cells": [
  {
   "cell_type": "code",
   "id": "initial_id",
   "metadata": {
    "collapsed": true,
    "ExecuteTime": {
     "end_time": "2024-12-06T20:40:47.908656Z",
     "start_time": "2024-12-06T20:40:47.905069Z"
    }
   },
   "source": [
    "import os\n",
    "import nbformat\n",
    "import matplotlib.pyplot as plt\n",
    "import csv"
   ],
   "outputs": [],
   "execution_count": 49
  },
  {
   "metadata": {
    "ExecuteTime": {
     "end_time": "2024-12-06T20:40:47.921048Z",
     "start_time": "2024-12-06T20:40:47.913586Z"
    }
   },
   "cell_type": "code",
   "source": [
    "CLUSTERING_ALGOS = [\n",
    "    \"KMeans\", \"DBSCAN\", \"AgglomerativeClustering\", \"SpectralClustering\",\n",
    "    \"MeanShift\", \"AffinityPropagation\", \"Birch\", \"OPTICS\", \"GaussianMixture\",\n",
    "    \"HierarchicalClustering\", \"FuzzyCMeans\", \"MiniBatchKMeans\", \"CanopyClustering\",\n",
    "    \"SubspaceClustering\", \"SelfOrganizingMap\", \"KMedoids\", \"KPrototypes\", \"CLIQUE\",\n",
    "    \"CURE\", \"Chameleon\", \"DENCLUE\", \"SNNClustering\", \"GMMClustering\", \"EMClustering\",\n",
    "    \"HierarchicalAgglomerativeClustering\", \"DivisiveClustering\", \"DensityBasedClustering\",\n",
    "    \"ModelBasedClustering\", \"GridBasedClustering\", \"CoClustering\", \"Biclustering\",\n",
    "    \"SpectralBiclustering\", \"LatentClassAnalysis\", \"DBCLASD\", \"ROCKClustering\",\n",
    "    \"WaveCluster\", \"STINGClustering\", \"OPTICSXi\", \"HDBSCAN\", \"SOMClustering\",\n",
    "    \"NeuralGasClustering\", \"AffinityClustering\", \"LinkageClustering\", \"WardClustering\",\n",
    "    \"SLINK\", \"CLINK\", \"NNChain\", \"AnderbergClustering\", \"LeaderClustering\", \"DeLiClu\",\n",
    "    \"HiSC\", \"HiCO\", \"DiSH\", \"4CClustering\", \"ERiCClustering\", \"COPAC\", \"P3CClustering\",\n",
    "    \"CASHClustering\", \"DOCClustering\", \"FastDOCClustering\", \"PAMClustering\", \"CLARAClustering\",\n",
    "    \"CLARANSClustering\", \"FastPAM\", \"ApproximatePAM\", \"BalancedIterativeReducingClustering\",\n",
    "    \"IterativeDichotomiser3\", \"C45Algorithm\", \"C50Algorithm\", \"CHAIDAlgorithm\", \"DecisionStump\",\n",
    "    \"ConditionalDecisionTree\", \"RandomForest\", \"SLIQAlgorithm\", \"BayesianClustering\",\n",
    "    \"NaiveBayesClustering\", \"GaussianNaiveBayesClustering\", \"MultinomialNaiveBayesClustering\",\n",
    "    \"AODEClustering\", \"BayesianBeliefNetworkClustering\", \"BayesianNetworkClustering\",\n",
    "    \"FisherDiscriminantClustering\", \"LinearRegressionClustering\", \"LogisticRegressionClustering\",\n",
    "    \"MultinomialLogisticRegressionClustering\", \"PerceptronClustering\", \"SupportVectorMachineClustering\",\n",
    "    \"SingleLinkageClustering\", \"CompleteLinkageClustering\", \"AverageLinkageClustering\",\n",
    "    \"WardLinkageClustering\", \"CentroidLinkageClustering\", \"MedianLinkageClustering\",\n",
    "    \"FlexibleLinkageClustering\", \"WeightedLinkageClustering\", \"UnweightedLinkageClustering\",\n",
    "    \"UPGMAClustering\", \"WPGMAClustering\", \"UPGMCClustering\", \"WPGMCClustering\", \"DendrogramClustering\",\n",
    "    \"AgglomerativeHierarchicalClustering\", \"DivisiveHierarchicalClustering\", \"DensityBasedSpatialClustering\",\n",
    "    \"DensityBasedClustering\", \"ModelBasedClustering\", \"GridBasedClustering\", \"SubspaceClustering\",\n",
    "    \"CoClustering\", \"Biclustering\", \"SpectralBiclustering\", \"LatentClassAnalysis\", \"DBCLASD\",\n",
    "    \"ROCKClustering\", \"WaveCluster\", \"STINGClustering\", \"OPTICSXi\", \"HDBSCAN\", \"SOMClustering\",\n",
    "    \"NeuralGasClustering\", \"AffinityClustering\", \"LinkageClustering\", \"WardClustering\", \"SLINK\",\n",
    "    \"CLINK\", \"NNChain\", \"AnderbergClustering\", \"LeaderClustering\", \"DeLiClu\", \"HiSC\", \"HiCO\",\n",
    "    \"DiSH\", \"4CClustering\", \"ERiCClustering\", \"COPAC\", \"P3CClustering\", \"CASHClustering\",\n",
    "    \"DOCClustering\", \"FastDOCClustering\", \"PAMClustering\", \"CLARAClustering\", \"CLARANSClustering\",\n",
    "    \"FastPAM\", \"ApproximatePAM\", \"BalancedIterativeReducingClustering\", \"IterativeDichotomiser3\",\n",
    "    \"C45Algorithm\", \"C50Algorithm\", \"CHAIDAlgorithm\", \"DecisionStump\", \"ConditionalDecisionTree\",\n",
    "    \"RandomForest\", \"SLIQAlgorithm\", \"BayesianClustering\", \"NaiveBayesClustering\",\n",
    "    \"GaussianNaiveBayesClustering\", \"MultinomialNaiveBayesClustering\", \"AODEClustering\",\n",
    "    \"BayesianBeliefNetworkClustering\", \"BayesianNetworkClustering\", \"FisherDiscriminantClustering\",\n",
    "    \"LinearRegressionClustering\", \"LogisticRegressionClustering\", \"MultinomialLogisticRegressionClustering\",\n",
    "    \"PerceptronClustering\", \"SupportVectorMachineClustering\", \"SingleLinkageClustering\",\n",
    "    \"CompleteLinkageClustering\", \"AverageLinkageClustering\", \"WardLinkageClustering\",\n",
    "    \"CentroidLinkageClustering\", \"MedianLinkageClustering\", \"FlexibleLinkageClustering\",\n",
    "    \"WeightedLinkageClustering\", \"UnweightedLinkageClustering\", \"UPGMAClustering\", \"WPGMAClustering\",\n",
    "    \"UPGMCClustering\", \"WPGMCClustering\", \"DendrogramClustering\", \"AgglomerativeHierarchicalClustering\",\n",
    "    \"DivisiveHierarchicalClustering\", \"DensityBasedSpatialClustering\", \"DensityBasedClustering\",\n",
    "    \"ModelBasedClustering\", \"GridBasedClustering\", \"SubspaceClustering\", \"CoClustering\",\n",
    "    \"Biclustering\", \"SpectralBiclustering\", \"LatentClassAnalysis\", \"DBCLASD\", \"ROCKClustering\",\n",
    "    \"WaveCluster\", \"STINGClustering\"\n",
    "]"
   ],
   "id": "769aa2b5151cef71",
   "outputs": [],
   "execution_count": 50
  },
  {
   "metadata": {
    "ExecuteTime": {
     "end_time": "2024-12-06T20:40:47.931468Z",
     "start_time": "2024-12-06T20:40:47.927715Z"
    }
   },
   "cell_type": "code",
   "source": [
    "def search_notebooks(folder_path):\n",
    "    \"\"\"Durchsucht Jupyter-Notebooks in einem Ordner nach Clustering-Algorithmen.\n",
    "\n",
    "    Args:\n",
    "        folder_path (str): Pfad zum Ordner mit Jupyter-Notebooks.\n",
    "\n",
    "    Returns:\n",
    "        dict: Ein Dictionary mit Notebook-Dateinamen als Schlüssel und\n",
    "              gefundenen Algorithmen als Werte.\n",
    "    \"\"\"\n",
    "    results = {}\n",
    "\n",
    "    for file_name in os.listdir(folder_path):\n",
    "        if file_name.endswith(\".ipynb\"):  # Nur Jupyter-Notebooks betrachten\n",
    "            file_path = os.path.join(folder_path, file_name)\n",
    "\n",
    "            try:\n",
    "                # Notebook laden\n",
    "                with open(file_path, \"r\", encoding=\"utf-8\") as f:\n",
    "                    notebook = nbformat.read(f, as_version=4)\n",
    "\n",
    "                # Zelleninhalt durchsuchen\n",
    "                found_algos = set()\n",
    "                for cell in notebook.cells:\n",
    "                    if cell.cell_type == \"code\":  # Nur Code-Zellen durchsuchen\n",
    "                        cell_content = cell.source\n",
    "                        for algo in CLUSTERING_ALGOS:\n",
    "                            if algo in cell_content:\n",
    "                                found_algos.add(algo)\n",
    "\n",
    "                if found_algos:\n",
    "                    results[file_name] = list(found_algos)\n",
    "            except Exception as e:\n",
    "                print(f\"Fehler beim Lesen von {file_name}: {e}\")\n",
    "\n",
    "    return results\n"
   ],
   "id": "f775838daab1fdca",
   "outputs": [],
   "execution_count": 51
  },
  {
   "metadata": {
    "ExecuteTime": {
     "end_time": "2024-12-06T20:40:47.940282Z",
     "start_time": "2024-12-06T20:40:47.937314Z"
    }
   },
   "cell_type": "code",
   "source": [
    "def save_results_to_csv(results, output_file=\"clustering_algorithms_report.csv\"):\n",
    "    \"\"\"Speichert die Ergebnisse in einer CSV-Datei.\n",
    "\n",
    "    Args:\n",
    "        results (dict): Ergebnisse der Analyse.\n",
    "        output_file (str): Pfad zur Ausgabedatei.\n",
    "    \"\"\"\n",
    "    with open(output_file, mode='w', newline='', encoding='utf-8') as file:\n",
    "        writer = csv.writer(file)\n",
    "        writer.writerow([\"Notebook\", \"Algorithmus\"])\n",
    "        for notebook, algos in results.items():\n",
    "            for algo in algos:\n",
    "                writer.writerow([notebook, algo])\n",
    "    print(f\"Ergebnisse gespeichert in: {output_file}\")\n"
   ],
   "id": "17e3f838b6484b5a",
   "outputs": [],
   "execution_count": 52
  },
  {
   "metadata": {
    "ExecuteTime": {
     "end_time": "2024-12-06T20:40:47.948699Z",
     "start_time": "2024-12-06T20:40:47.945725Z"
    }
   },
   "cell_type": "code",
   "source": [
    "def visualize_results(results):\n",
    "    \"\"\"Visualisiert die gefundenen Clustering-Algorithmen.\n",
    "\n",
    "    Args:\n",
    "        results (dict): Ergebnisse der Analyse.\n",
    "    \"\"\"\n",
    "    # Alle gefundenen Algorithmen sammeln\n",
    "    algo_counts = {}\n",
    "    for algos in results.values():\n",
    "        for algo in algos:\n",
    "            algo_counts[algo] = algo_counts.get(algo, 0) + 1\n",
    "\n",
    "    # Daten sortieren\n",
    "    algos = list(algo_counts.keys())\n",
    "    counts = [algo_counts[algo] for algo in algos]\n",
    "\n",
    "    # Visualisierung\n",
    "    plt.figure(figsize=(10, 6))\n",
    "    plt.barh(algos, counts)\n",
    "    plt.xlabel(\"Anzahl der Vorkommen\")\n",
    "    plt.ylabel(\"Clustering-Algorithmen\")\n",
    "    plt.title(\"Häufigkeit der Clustering-Algorithmen in Notebooks\")\n",
    "    plt.tight_layout()\n",
    "    plt.show()"
   ],
   "id": "5562fd0c1687ecde",
   "outputs": [],
   "execution_count": 53
  },
  {
   "metadata": {
    "ExecuteTime": {
     "end_time": "2024-12-06T20:40:48.166445Z",
     "start_time": "2024-12-06T20:40:47.956984Z"
    }
   },
   "cell_type": "code",
   "source": [
    "if __name__ == \"__main__\":\n",
    "    # Ordnerpfad eingeben\n",
    "    folder_path = \"/Users/merluee/PycharmProjects/BigData/kaggle_notebooks/playground-series-s4e12\"\n",
    "\n",
    "    # Suche ausführen\n",
    "    results = search_notebooks(folder_path)\n",
    "\n",
    "    # Ergebnisse speichern\n",
    "    save_results_to_csv(results)\n",
    "\n",
    "    # Ergebnisse visualisieren\n",
    "    if results:\n",
    "        visualize_results(results)\n",
    "    else:\n",
    "        print(\"Keine Clustering-Algorithmen in den Notebooks gefunden.\")"
   ],
   "id": "ed75ad7eccf47210",
   "outputs": [
    {
     "name": "stdout",
     "output_type": "stream",
     "text": [
      "Ergebnisse gespeichert in: clustering_algorithms_report.csv\n"
     ]
    },
    {
     "data": {
      "text/plain": [
       "<Figure size 1000x600 with 1 Axes>"
      ],
      "image/png": "[encoded data removed]"
     },
     "metadata": {},
     "output_type": "display_data"
    }
   ],
   "execution_count": 54
  }
 ],
 "metadata": {
  "kernelspec": {
   "display_name": "Python 3",
   "language": "python",
   "name": "python3"
  },
  "language_info": {
   "codemirror_mode": {
    "name": "ipython",
    "version": 2
   },
   "file_extension": ".py",
   "mimetype": "text/x-python",
   "name": "python",
   "nbconvert_exporter": "python",
   "pygments_lexer": "ipython2",
   "version": "2.7.6"
  }
 },
 "nbformat": 4,
 "nbformat_minor": 5
}
